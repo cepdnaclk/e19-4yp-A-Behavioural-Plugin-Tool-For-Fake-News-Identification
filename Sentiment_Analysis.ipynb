{
  "nbformat": 4,
  "nbformat_minor": 0,
  "metadata": {
    "colab": {
      "provenance": []
    },
    "kernelspec": {
      "name": "python3",
      "display_name": "Python 3"
    },
    "language_info": {
      "name": "python"
    }
  },
  "cells": [
    {
      "cell_type": "code",
      "execution_count": 4,
      "metadata": {
        "colab": {
          "base_uri": "https://localhost:8080/"
        },
        "id": "npPkFfJ3KOn6",
        "outputId": "b6cbca29-e995-43c2-f29c-65210a93302a"
      },
      "outputs": [
        {
          "output_type": "stream",
          "name": "stdout",
          "text": [
            "Mounted at /content/drive\n"
          ]
        }
      ],
      "source": [
        "from google.colab import drive\n",
        "drive.mount('/content/drive')\n"
      ]
    },
    {
      "cell_type": "code",
      "source": [
        "import pandas as pd\n",
        "\n",
        "file_path = \"/content/drive/MyDrive/all_test_public.csv\"\n",
        "df = pd.read_csv(file_path)\n"
      ],
      "metadata": {
        "id": "hF6TpYi8M9d-"
      },
      "execution_count": null,
      "outputs": []
    },
    {
      "cell_type": "code",
      "source": [
        "# Step 2: Install TextBlob\n",
        "!pip install textblob\n"
      ],
      "metadata": {
        "colab": {
          "base_uri": "https://localhost:8080/"
        },
        "id": "tFF13CwrOs5s",
        "outputId": "23201b1b-7c65-4391-a19c-6b95c2cf0e7d"
      },
      "execution_count": null,
      "outputs": [
        {
          "output_type": "stream",
          "name": "stdout",
          "text": [
            "Requirement already satisfied: textblob in /usr/local/lib/python3.11/dist-packages (0.19.0)\n",
            "Requirement already satisfied: nltk>=3.9 in /usr/local/lib/python3.11/dist-packages (from textblob) (3.9.1)\n",
            "Requirement already satisfied: click in /usr/local/lib/python3.11/dist-packages (from nltk>=3.9->textblob) (8.2.1)\n",
            "Requirement already satisfied: joblib in /usr/local/lib/python3.11/dist-packages (from nltk>=3.9->textblob) (1.5.0)\n",
            "Requirement already satisfied: regex>=2021.8.3 in /usr/local/lib/python3.11/dist-packages (from nltk>=3.9->textblob) (2024.11.6)\n",
            "Requirement already satisfied: tqdm in /usr/local/lib/python3.11/dist-packages (from nltk>=3.9->textblob) (4.67.1)\n"
          ]
        }
      ]
    },
    {
      "cell_type": "code",
      "source": [
        "# Step 3: Import Libraries\n",
        "import pandas as pd\n",
        "from textblob import TextBlob\n"
      ],
      "metadata": {
        "id": "CwF8BijROzN8"
      },
      "execution_count": null,
      "outputs": []
    },
    {
      "cell_type": "code",
      "source": [
        "# Keep only required columns\n",
        "df = df[['id', 'clean_title']]\n",
        "\n",
        "# Drop rows with NaN in clean_title\n",
        "df = df.dropna(subset=['clean_title']).reset_index(drop=True)"
      ],
      "metadata": {
        "id": "VWteckn4O5hi"
      },
      "execution_count": null,
      "outputs": []
    },
    {
      "cell_type": "code",
      "source": [
        "# Save intermediate cleaned CSV\n",
        "intermediate_output_path = '/content/drive/MyDrive/all_test_cleaned_titles.csv'\n",
        "df.to_csv(intermediate_output_path, index=False)\n",
        "\n",
        "print(\"Intermediate CSV saved at:\", intermediate_output_path)\n"
      ],
      "metadata": {
        "colab": {
          "base_uri": "https://localhost:8080/"
        },
        "id": "T8pHEpMMPUwO",
        "outputId": "e3f53b90-cee1-4fad-f73a-c1537b694da1"
      },
      "execution_count": null,
      "outputs": [
        {
          "output_type": "stream",
          "name": "stdout",
          "text": [
            "Intermediate CSV saved at: /content/drive/MyDrive/all_test_cleaned_titles.csv\n"
          ]
        }
      ]
    },
    {
      "cell_type": "code",
      "source": [
        "from textblob import TextBlob\n",
        "\n",
        "# Step 1: Load the intermediate CSV\n",
        "df = pd.read_csv('/content/drive/MyDrive/all_test_cleaned_titles.csv')\n",
        "\n",
        "# Step 2: Define a function to calculate sentiment polarity\n",
        "def get_polarity(text):\n",
        "    return TextBlob(str(text)).sentiment.polarity\n",
        "\n",
        "# Step 3: Apply the function to the clean_title column\n",
        "df['sentiment_polarity'] = df['clean_title'].apply(get_polarity)\n",
        "\n",
        "# Step 4: Save final CSV with sentiment scores\n",
        "final_output_path = '/content/drive/MyDrive/all_test_with_sentiment.csv'\n",
        "df.to_csv(final_output_path, index=False)\n",
        "\n",
        "print(\"Final CSV with sentiment polarity saved at:\", final_output_path)\n"
      ],
      "metadata": {
        "colab": {
          "base_uri": "https://localhost:8080/"
        },
        "id": "E8dWOIw1P0qV",
        "outputId": "6c6b9123-31a4-442e-e437-4294bd3a8606"
      },
      "execution_count": null,
      "outputs": [
        {
          "output_type": "stream",
          "name": "stdout",
          "text": [
            "Final CSV with sentiment polarity saved at: /content/drive/MyDrive/all_test_with_sentiment.csv\n"
          ]
        }
      ]
    },
    {
      "cell_type": "code",
      "source": [
        "import pandas as pd\n",
        "\n",
        "file_path = \"/content/drive/MyDrive/all_validate.csv\"\n",
        "df = pd.read_csv(file_path)\n"
      ],
      "metadata": {
        "id": "lcfb461SRRUI"
      },
      "execution_count": null,
      "outputs": []
    },
    {
      "cell_type": "code",
      "source": [
        "# Keep only required columns\n",
        "df = df[['id', 'clean_title']]\n",
        "\n",
        "# Drop rows with NaN in clean_title\n",
        "df = df.dropna(subset=['clean_title']).reset_index(drop=True)"
      ],
      "metadata": {
        "id": "nFx8VYxcReJE"
      },
      "execution_count": null,
      "outputs": []
    },
    {
      "cell_type": "code",
      "source": [
        "# Save intermediate cleaned CSV\n",
        "intermediate_output_path = '/content/drive/MyDrive/all_validate_cleaned_titles.csv'\n",
        "df.to_csv(intermediate_output_path, index=False)\n",
        "\n",
        "print(\"Intermediate CSV saved at:\", intermediate_output_path)"
      ],
      "metadata": {
        "colab": {
          "base_uri": "https://localhost:8080/"
        },
        "id": "U0lS89H5Ri-o",
        "outputId": "094820e8-6401-419c-9aa9-e846d208a043"
      },
      "execution_count": null,
      "outputs": [
        {
          "output_type": "stream",
          "name": "stdout",
          "text": [
            "Intermediate CSV saved at: /content/drive/MyDrive/all_validate_cleaned_titles.csv\n"
          ]
        }
      ]
    },
    {
      "cell_type": "code",
      "source": [
        "from textblob import TextBlob\n",
        "\n",
        "# Step 1: Load the intermediate CSV\n",
        "df = pd.read_csv('/content/drive/MyDrive/all_validate_cleaned_titles.csv')\n",
        "\n",
        "# Step 2: Define a function to calculate sentiment polarity\n",
        "def get_polarity(text):\n",
        "    return TextBlob(str(text)).sentiment.polarity\n",
        "\n",
        "# Step 3: Apply the function to the clean_title column\n",
        "df['sentiment_polarity'] = df['clean_title'].apply(get_polarity)\n",
        "\n",
        "# Step 4: Save final CSV with sentiment scores\n",
        "final_output_path = '/content/drive/MyDrive/all_validate_with_sentiment.csv'\n",
        "df.to_csv(final_output_path, index=False)\n",
        "\n",
        "print(\"Final CSV with sentiment polarity saved at:\", final_output_path)\n"
      ],
      "metadata": {
        "colab": {
          "base_uri": "https://localhost:8080/"
        },
        "id": "khyQMjUiSDT5",
        "outputId": "fb2ee898-dd80-4b19-fb25-47a2b98a4dd9"
      },
      "execution_count": null,
      "outputs": [
        {
          "output_type": "stream",
          "name": "stdout",
          "text": [
            "Final CSV with sentiment polarity saved at: /content/drive/MyDrive/all_validate_with_sentiment.csv\n"
          ]
        }
      ]
    },
    {
      "cell_type": "code",
      "source": [
        "import pandas as pd\n",
        "\n",
        "file_path = \"/content/drive/MyDrive/all_train.csv\"\n",
        "df = pd.read_csv(file_path)"
      ],
      "metadata": {
        "id": "4OCq2g6MSX6t"
      },
      "execution_count": null,
      "outputs": []
    },
    {
      "cell_type": "code",
      "source": [
        "# Keep only required columns\n",
        "df = df[['id', 'clean_title']]\n",
        "\n",
        "# Drop rows with NaN in clean_title\n",
        "df = df.dropna(subset=['clean_title']).reset_index(drop=True)"
      ],
      "metadata": {
        "id": "x5LtY0WPSiEa"
      },
      "execution_count": null,
      "outputs": []
    },
    {
      "cell_type": "code",
      "source": [
        "# Save intermediate cleaned CSV\n",
        "intermediate_output_path = '/content/drive/MyDrive/all_train_cleaned_titles.csv'\n",
        "df.to_csv(intermediate_output_path, index=False)\n",
        "\n",
        "print(\"Intermediate CSV saved at:\", intermediate_output_path)"
      ],
      "metadata": {
        "colab": {
          "base_uri": "https://localhost:8080/"
        },
        "id": "t9mbSH1cSltX",
        "outputId": "e2c7b27a-2df5-49f5-c4e1-d4022fdd72d4"
      },
      "execution_count": null,
      "outputs": [
        {
          "output_type": "stream",
          "name": "stdout",
          "text": [
            "Intermediate CSV saved at: /content/drive/MyDrive/all_train_cleaned_titles.csv\n"
          ]
        }
      ]
    },
    {
      "cell_type": "code",
      "source": [
        "from textblob import TextBlob\n",
        "\n",
        "# Step 1: Load the intermediate CSV\n",
        "df = pd.read_csv('/content/drive/MyDrive/all_train_cleaned_titles.csv')\n",
        "\n",
        "# Step 2: Define a function to calculate sentiment polarity\n",
        "def get_polarity(text):\n",
        "    return TextBlob(str(text)).sentiment.polarity\n",
        "\n",
        "# Step 3: Apply the function to the clean_title column\n",
        "df['sentiment_polarity'] = df['clean_title'].apply(get_polarity)\n",
        "\n",
        "# Step 4: Save final CSV with sentiment scores\n",
        "final_output_path = '/content/drive/MyDrive/all_train_with_sentiment.csv'\n",
        "df.to_csv(final_output_path, index=False)\n",
        "\n",
        "print(\"Final CSV with sentiment polarity saved at:\", final_output_path)"
      ],
      "metadata": {
        "colab": {
          "base_uri": "https://localhost:8080/"
        },
        "id": "gCr-Et24TQdj",
        "outputId": "9239c87d-5d99-45ff-dab6-2a88c2547dd7"
      },
      "execution_count": null,
      "outputs": [
        {
          "output_type": "stream",
          "name": "stdout",
          "text": [
            "Final CSV with sentiment polarity saved at: /content/drive/MyDrive/all_train_with_sentiment.csv\n"
          ]
        }
      ]
    },
    {
      "cell_type": "code",
      "source": [
        "import pandas as pd\n",
        "\n",
        "# Load the three CSV files\n",
        "df1 = pd.read_csv('/content/drive/MyDrive/all_train_with_sentiment.csv')\n",
        "df2 = pd.read_csv('/content/drive/MyDrive/all_test_with_sentiment.csv')\n",
        "df3 = pd.read_csv('/content/drive/MyDrive/all_validate_with_sentiment.csv')\n",
        "\n",
        "# Concatenate them vertically\n",
        "combined_df = pd.concat([df1, df2, df3], ignore_index=True)\n",
        "\n",
        "# Save to new CSV\n",
        "combined_df.to_csv('/content/drive/MyDrive/combined_stacked.csv', index=False)\n",
        "\n",
        "print(\"Files combined and saved as 'combined_stacked.csv'\")\n"
      ],
      "metadata": {
        "colab": {
          "base_uri": "https://localhost:8080/"
        },
        "id": "fV1cWbGpVOi1",
        "outputId": "75fed075-8526-4ed9-84f5-530b39920dfd"
      },
      "execution_count": null,
      "outputs": [
        {
          "output_type": "stream",
          "name": "stdout",
          "text": [
            "Files combined and saved as 'combined_stacked.csv'\n"
          ]
        }
      ]
    },
    {
      "cell_type": "code",
      "source": [
        "import pandas as pd\n",
        "\n",
        "# Load both datasets\n",
        "main_df = pd.read_csv('/content/drive/MyDrive/cleaned_combined_dataset_with_emotion.csv')\n",
        "sentiment_df = pd.read_csv('/content/drive/MyDrive/combined_stacked.csv')\n",
        "\n",
        "# Merge on 'id' column\n",
        "merged_df = main_df.merge(sentiment_df[['id', 'sentiment_polarity']], on='id', how='left')\n",
        "\n",
        "# Save the merged DataFrame\n",
        "merged_df.to_csv('/content/drive/MyDrive/cleaned_combined_dataset_with_sentiment.csv', index=False)\n",
        "\n",
        "print(\"Merged file saved as 'cleaned_combined_dataset_with_sentiment.csv'\")\n"
      ],
      "metadata": {
        "colab": {
          "base_uri": "https://localhost:8080/"
        },
        "id": "uW9jTKlFZgyS",
        "outputId": "f4735272-a66f-4f55-b25e-6a0a51ddda38"
      },
      "execution_count": 5,
      "outputs": [
        {
          "output_type": "stream",
          "name": "stdout",
          "text": [
            "Merged file saved as 'cleaned_combined_dataset_with_sentiment.csv'\n"
          ]
        }
      ]
    }
  ]
}