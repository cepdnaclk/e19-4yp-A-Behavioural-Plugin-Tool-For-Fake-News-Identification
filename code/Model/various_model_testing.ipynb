{
 "cells": [
  {
   "cell_type": "markdown",
   "metadata": {
    "id": "hG7HqKfAPxGn"
   },
   "source": [
    "# MiniLM model"
   ]
  },
  {
   "cell_type": "code",
   "execution_count": null,
   "metadata": {
    "id": "qaA3uYbpDOk1"
   },
   "outputs": [],
   "source": [
    "import pandas as pd\n",
    "from sklearn.model_selection import train_test_split\n",
    "\n",
    "# Load your data\n",
    "df = pd.read_csv('/content/drive/MyDrive/Research/Dataset/Fakeddit/all_samples (also includes non multimodal)/Original dataset/polarity_results.csv')\n",
    "\n",
    "# Fill missing text with empty string\n",
    "df['title'] = df['title'].fillna('')\n",
    "\n",
    "# Select features\n",
    "text_col = 'title'\n",
    "tabular_cols = ['num_comments', 'score', 'upvote_ratio', 'polarity', 'emotion_score']\n",
    "target_col = '2_way_label'\n",
    "\n",
    "# Split into train/val/test (64/16/20)\n",
    "X = df[[text_col] + tabular_cols]\n",
    "y = df[target_col]\n",
    "\n",
    "X_temp, X_test, y_temp, y_test = train_test_split(\n",
    "    X, y, test_size=0.2, random_state=42, stratify=y\n",
    ")\n",
    "X_train, X_val, y_train, y_val = train_test_split(\n",
    "    X_temp, y_temp, test_size=0.2, random_state=42, stratify=y_temp\n",
    ")\n"
   ]
  },
  {
   "cell_type": "code",
   "execution_count": null,
   "metadata": {
    "colab": {
     "base_uri": "https://localhost:8080/"
    },
    "id": "oN6duC7LDzCo",
    "outputId": "625566ac-ed56-4acf-9dc2-7d17870786bd"
   },
   "outputs": [
    {
     "name": "stdout",
     "output_type": "stream",
     "text": [
      "Requirement already satisfied: transformers in /usr/local/lib/python3.11/dist-packages (4.52.3)\n",
      "Requirement already satisfied: torch in /usr/local/lib/python3.11/dist-packages (2.6.0+cu124)\n",
      "Requirement already satisfied: scikit-learn in /usr/local/lib/python3.11/dist-packages (1.6.1)\n",
      "Requirement already satisfied: pandas in /usr/local/lib/python3.11/dist-packages (2.2.2)\n",
      "Requirement already satisfied: filelock in /usr/local/lib/python3.11/dist-packages (from transformers) (3.18.0)\n",
      "Requirement already satisfied: huggingface-hub<1.0,>=0.30.0 in /usr/local/lib/python3.11/dist-packages (from transformers) (0.32.2)\n",
      "Requirement already satisfied: numpy>=1.17 in /usr/local/lib/python3.11/dist-packages (from transformers) (2.0.2)\n",
      "Requirement already satisfied: packaging>=20.0 in /usr/local/lib/python3.11/dist-packages (from transformers) (24.2)\n",
      "Requirement already satisfied: pyyaml>=5.1 in /usr/local/lib/python3.11/dist-packages (from transformers) (6.0.2)\n",
      "Requirement already satisfied: regex!=2019.12.17 in /usr/local/lib/python3.11/dist-packages (from transformers) (2024.11.6)\n",
      "Requirement already satisfied: requests in /usr/local/lib/python3.11/dist-packages (from transformers) (2.32.3)\n",
      "Requirement already satisfied: tokenizers<0.22,>=0.21 in /usr/local/lib/python3.11/dist-packages (from transformers) (0.21.1)\n",
      "Requirement already satisfied: safetensors>=0.4.3 in /usr/local/lib/python3.11/dist-packages (from transformers) (0.5.3)\n",
      "Requirement already satisfied: tqdm>=4.27 in /usr/local/lib/python3.11/dist-packages (from transformers) (4.67.1)\n",
      "Requirement already satisfied: typing-extensions>=4.10.0 in /usr/local/lib/python3.11/dist-packages (from torch) (4.13.2)\n",
      "Requirement already satisfied: networkx in /usr/local/lib/python3.11/dist-packages (from torch) (3.5)\n",
      "Requirement already satisfied: jinja2 in /usr/local/lib/python3.11/dist-packages (from torch) (3.1.6)\n",
      "Requirement already satisfied: fsspec in /usr/local/lib/python3.11/dist-packages (from torch) (2025.3.2)\n",
      "Collecting nvidia-cuda-nvrtc-cu12==12.4.127 (from torch)\n",
      "  Downloading nvidia_cuda_nvrtc_cu12-12.4.127-py3-none-manylinux2014_x86_64.whl.metadata (1.5 kB)\n",
      "Collecting nvidia-cuda-runtime-cu12==12.4.127 (from torch)\n",
      "  Downloading nvidia_cuda_runtime_cu12-12.4.127-py3-none-manylinux2014_x86_64.whl.metadata (1.5 kB)\n",
      "Collecting nvidia-cuda-cupti-cu12==12.4.127 (from torch)\n",
      "  Downloading nvidia_cuda_cupti_cu12-12.4.127-py3-none-manylinux2014_x86_64.whl.metadata (1.6 kB)\n",
      "Collecting nvidia-cudnn-cu12==9.1.0.70 (from torch)\n",
      "  Downloading nvidia_cudnn_cu12-9.1.0.70-py3-none-manylinux2014_x86_64.whl.metadata (1.6 kB)\n",
      "Collecting nvidia-cublas-cu12==12.4.5.8 (from torch)\n",
      "  Downloading nvidia_cublas_cu12-12.4.5.8-py3-none-manylinux2014_x86_64.whl.metadata (1.5 kB)\n",
      "Collecting nvidia-cufft-cu12==11.2.1.3 (from torch)\n",
      "  Downloading nvidia_cufft_cu12-11.2.1.3-py3-none-manylinux2014_x86_64.whl.metadata (1.5 kB)\n",
      "Collecting nvidia-curand-cu12==10.3.5.147 (from torch)\n",
      "  Downloading nvidia_curand_cu12-10.3.5.147-py3-none-manylinux2014_x86_64.whl.metadata (1.5 kB)\n",
      "Collecting nvidia-cusolver-cu12==11.6.1.9 (from torch)\n",
      "  Downloading nvidia_cusolver_cu12-11.6.1.9-py3-none-manylinux2014_x86_64.whl.metadata (1.6 kB)\n",
      "Collecting nvidia-cusparse-cu12==12.3.1.170 (from torch)\n",
      "  Downloading nvidia_cusparse_cu12-12.3.1.170-py3-none-manylinux2014_x86_64.whl.metadata (1.6 kB)\n",
      "Requirement already satisfied: nvidia-cusparselt-cu12==0.6.2 in /usr/local/lib/python3.11/dist-packages (from torch) (0.6.2)\n",
      "Requirement already satisfied: nvidia-nccl-cu12==2.21.5 in /usr/local/lib/python3.11/dist-packages (from torch) (2.21.5)\n",
      "Requirement already satisfied: nvidia-nvtx-cu12==12.4.127 in /usr/local/lib/python3.11/dist-packages (from torch) (12.4.127)\n",
      "Collecting nvidia-nvjitlink-cu12==12.4.127 (from torch)\n",
      "  Downloading nvidia_nvjitlink_cu12-12.4.127-py3-none-manylinux2014_x86_64.whl.metadata (1.5 kB)\n",
      "Requirement already satisfied: triton==3.2.0 in /usr/local/lib/python3.11/dist-packages (from torch) (3.2.0)\n",
      "Requirement already satisfied: sympy==1.13.1 in /usr/local/lib/python3.11/dist-packages (from torch) (1.13.1)\n",
      "Requirement already satisfied: mpmath<1.4,>=1.1.0 in /usr/local/lib/python3.11/dist-packages (from sympy==1.13.1->torch) (1.3.0)\n",
      "Requirement already satisfied: scipy>=1.6.0 in /usr/local/lib/python3.11/dist-packages (from scikit-learn) (1.15.3)\n",
      "Requirement already satisfied: joblib>=1.2.0 in /usr/local/lib/python3.11/dist-packages (from scikit-learn) (1.5.1)\n",
      "Requirement already satisfied: threadpoolctl>=3.1.0 in /usr/local/lib/python3.11/dist-packages (from scikit-learn) (3.6.0)\n",
      "Requirement already satisfied: python-dateutil>=2.8.2 in /usr/local/lib/python3.11/dist-packages (from pandas) (2.9.0.post0)\n",
      "Requirement already satisfied: pytz>=2020.1 in /usr/local/lib/python3.11/dist-packages (from pandas) (2025.2)\n",
      "Requirement already satisfied: tzdata>=2022.7 in /usr/local/lib/python3.11/dist-packages (from pandas) (2025.2)\n",
      "Requirement already satisfied: hf-xet<2.0.0,>=1.1.2 in /usr/local/lib/python3.11/dist-packages (from huggingface-hub<1.0,>=0.30.0->transformers) (1.1.2)\n",
      "Requirement already satisfied: six>=1.5 in /usr/local/lib/python3.11/dist-packages (from python-dateutil>=2.8.2->pandas) (1.17.0)\n",
      "Requirement already satisfied: MarkupSafe>=2.0 in /usr/local/lib/python3.11/dist-packages (from jinja2->torch) (3.0.2)\n",
      "Requirement already satisfied: charset-normalizer<4,>=2 in /usr/local/lib/python3.11/dist-packages (from requests->transformers) (3.4.2)\n",
      "Requirement already satisfied: idna<4,>=2.5 in /usr/local/lib/python3.11/dist-packages (from requests->transformers) (3.10)\n",
      "Requirement already satisfied: urllib3<3,>=1.21.1 in /usr/local/lib/python3.11/dist-packages (from requests->transformers) (2.4.0)\n",
      "Requirement already satisfied: certifi>=2017.4.17 in /usr/local/lib/python3.11/dist-packages (from requests->transformers) (2025.4.26)\n",
      "Downloading nvidia_cublas_cu12-12.4.5.8-py3-none-manylinux2014_x86_64.whl (363.4 MB)\n",
      "\u001b[2K   \u001b[90m━━━━━━━━━━━━━━━━━━━━━━━━━━━━━━━━━━━━━━━━\u001b[0m \u001b[32m363.4/363.4 MB\u001b[0m \u001b[31m4.5 MB/s\u001b[0m eta \u001b[36m0:00:00\u001b[0m\n",
      "\u001b[?25hDownloading nvidia_cuda_cupti_cu12-12.4.127-py3-none-manylinux2014_x86_64.whl (13.8 MB)\n",
      "\u001b[2K   \u001b[90m━━━━━━━━━━━━━━━━━━━━━━━━━━━━━━━━━━━━━━━━\u001b[0m \u001b[32m13.8/13.8 MB\u001b[0m \u001b[31m63.7 MB/s\u001b[0m eta \u001b[36m0:00:00\u001b[0m\n",
      "\u001b[?25hDownloading nvidia_cuda_nvrtc_cu12-12.4.127-py3-none-manylinux2014_x86_64.whl (24.6 MB)\n",
      "\u001b[2K   \u001b[90m━━━━━━━━━━━━━━━━━━━━━━━━━━━━━━━━━━━━━━━━\u001b[0m \u001b[32m24.6/24.6 MB\u001b[0m \u001b[31m35.2 MB/s\u001b[0m eta \u001b[36m0:00:00\u001b[0m\n",
      "\u001b[?25hDownloading nvidia_cuda_runtime_cu12-12.4.127-py3-none-manylinux2014_x86_64.whl (883 kB)\n",
      "\u001b[2K   \u001b[90m━━━━━━━━━━━━━━━━━━━━━━━━━━━━━━━━━━━━━━━━\u001b[0m \u001b[32m883.7/883.7 kB\u001b[0m \u001b[31m40.9 MB/s\u001b[0m eta \u001b[36m0:00:00\u001b[0m\n",
      "\u001b[?25hDownloading nvidia_cudnn_cu12-9.1.0.70-py3-none-manylinux2014_x86_64.whl (664.8 MB)\n",
      "\u001b[2K   \u001b[90m━━━━━━━━━━━━━━━━━━━━━━━━━━━━━━━━━━━━━━━━\u001b[0m \u001b[32m664.8/664.8 MB\u001b[0m \u001b[31m2.8 MB/s\u001b[0m eta \u001b[36m0:00:00\u001b[0m\n",
      "\u001b[?25hDownloading nvidia_cufft_cu12-11.2.1.3-py3-none-manylinux2014_x86_64.whl (211.5 MB)\n",
      "\u001b[2K   \u001b[90m━━━━━━━━━━━━━━━━━━━━━━━━━━━━━━━━━━━━━━━━\u001b[0m \u001b[32m211.5/211.5 MB\u001b[0m \u001b[31m5.9 MB/s\u001b[0m eta \u001b[36m0:00:00\u001b[0m\n",
      "\u001b[?25hDownloading nvidia_curand_cu12-10.3.5.147-py3-none-manylinux2014_x86_64.whl (56.3 MB)\n",
      "\u001b[2K   \u001b[90m━━━━━━━━━━━━━━━━━━━━━━━━━━━━━━━━━━━━━━━━\u001b[0m \u001b[32m56.3/56.3 MB\u001b[0m \u001b[31m12.4 MB/s\u001b[0m eta \u001b[36m0:00:00\u001b[0m\n",
      "\u001b[?25hDownloading nvidia_cusolver_cu12-11.6.1.9-py3-none-manylinux2014_x86_64.whl (127.9 MB)\n",
      "\u001b[2K   \u001b[90m━━━━━━━━━━━━━━━━━━━━━━━━━━━━━━━━━━━━━━━━\u001b[0m \u001b[32m127.9/127.9 MB\u001b[0m \u001b[31m7.5 MB/s\u001b[0m eta \u001b[36m0:00:00\u001b[0m\n",
      "\u001b[?25hDownloading nvidia_cusparse_cu12-12.3.1.170-py3-none-manylinux2014_x86_64.whl (207.5 MB)\n",
      "\u001b[2K   \u001b[90m━━━━━━━━━━━━━━━━━━━━━━━━━━━━━━━━━━━━━━━━\u001b[0m \u001b[32m207.5/207.5 MB\u001b[0m \u001b[31m6.4 MB/s\u001b[0m eta \u001b[36m0:00:00\u001b[0m\n",
      "\u001b[?25hDownloading nvidia_nvjitlink_cu12-12.4.127-py3-none-manylinux2014_x86_64.whl (21.1 MB)\n",
      "\u001b[2K   \u001b[90m━━━━━━━━━━━━━━━━━━━━━━━━━━━━━━━━━━━━━━━━\u001b[0m \u001b[32m21.1/21.1 MB\u001b[0m \u001b[31m93.1 MB/s\u001b[0m eta \u001b[36m0:00:00\u001b[0m\n",
      "\u001b[?25hInstalling collected packages: nvidia-nvjitlink-cu12, nvidia-curand-cu12, nvidia-cufft-cu12, nvidia-cuda-runtime-cu12, nvidia-cuda-nvrtc-cu12, nvidia-cuda-cupti-cu12, nvidia-cublas-cu12, nvidia-cusparse-cu12, nvidia-cudnn-cu12, nvidia-cusolver-cu12\n",
      "  Attempting uninstall: nvidia-nvjitlink-cu12\n",
      "    Found existing installation: nvidia-nvjitlink-cu12 12.5.82\n",
      "    Uninstalling nvidia-nvjitlink-cu12-12.5.82:\n",
      "      Successfully uninstalled nvidia-nvjitlink-cu12-12.5.82\n",
      "  Attempting uninstall: nvidia-curand-cu12\n",
      "    Found existing installation: nvidia-curand-cu12 10.3.6.82\n",
      "    Uninstalling nvidia-curand-cu12-10.3.6.82:\n",
      "      Successfully uninstalled nvidia-curand-cu12-10.3.6.82\n",
      "  Attempting uninstall: nvidia-cufft-cu12\n",
      "    Found existing installation: nvidia-cufft-cu12 11.2.3.61\n",
      "    Uninstalling nvidia-cufft-cu12-11.2.3.61:\n",
      "      Successfully uninstalled nvidia-cufft-cu12-11.2.3.61\n",
      "  Attempting uninstall: nvidia-cuda-runtime-cu12\n",
      "    Found existing installation: nvidia-cuda-runtime-cu12 12.5.82\n",
      "    Uninstalling nvidia-cuda-runtime-cu12-12.5.82:\n",
      "      Successfully uninstalled nvidia-cuda-runtime-cu12-12.5.82\n",
      "  Attempting uninstall: nvidia-cuda-nvrtc-cu12\n",
      "    Found existing installation: nvidia-cuda-nvrtc-cu12 12.5.82\n",
      "    Uninstalling nvidia-cuda-nvrtc-cu12-12.5.82:\n",
      "      Successfully uninstalled nvidia-cuda-nvrtc-cu12-12.5.82\n",
      "  Attempting uninstall: nvidia-cuda-cupti-cu12\n",
      "    Found existing installation: nvidia-cuda-cupti-cu12 12.5.82\n",
      "    Uninstalling nvidia-cuda-cupti-cu12-12.5.82:\n",
      "      Successfully uninstalled nvidia-cuda-cupti-cu12-12.5.82\n",
      "  Attempting uninstall: nvidia-cublas-cu12\n",
      "    Found existing installation: nvidia-cublas-cu12 12.5.3.2\n",
      "    Uninstalling nvidia-cublas-cu12-12.5.3.2:\n",
      "      Successfully uninstalled nvidia-cublas-cu12-12.5.3.2\n",
      "  Attempting uninstall: nvidia-cusparse-cu12\n",
      "    Found existing installation: nvidia-cusparse-cu12 12.5.1.3\n",
      "    Uninstalling nvidia-cusparse-cu12-12.5.1.3:\n",
      "      Successfully uninstalled nvidia-cusparse-cu12-12.5.1.3\n",
      "  Attempting uninstall: nvidia-cudnn-cu12\n",
      "    Found existing installation: nvidia-cudnn-cu12 9.3.0.75\n",
      "    Uninstalling nvidia-cudnn-cu12-9.3.0.75:\n",
      "      Successfully uninstalled nvidia-cudnn-cu12-9.3.0.75\n",
      "  Attempting uninstall: nvidia-cusolver-cu12\n",
      "    Found existing installation: nvidia-cusolver-cu12 11.6.3.83\n",
      "    Uninstalling nvidia-cusolver-cu12-11.6.3.83:\n",
      "      Successfully uninstalled nvidia-cusolver-cu12-11.6.3.83\n",
      "Successfully installed nvidia-cublas-cu12-12.4.5.8 nvidia-cuda-cupti-cu12-12.4.127 nvidia-cuda-nvrtc-cu12-12.4.127 nvidia-cuda-runtime-cu12-12.4.127 nvidia-cudnn-cu12-9.1.0.70 nvidia-cufft-cu12-11.2.1.3 nvidia-curand-cu12-10.3.5.147 nvidia-cusolver-cu12-11.6.1.9 nvidia-cusparse-cu12-12.3.1.170 nvidia-nvjitlink-cu12-12.4.127\n"
     ]
    }
   ],
   "source": [
    "!pip install transformers torch scikit-learn pandas\n"
   ]
  },
  {
   "cell_type": "markdown",
   "metadata": {
    "id": "iyQUkTEJEYE7"
   },
   "source": [
    "Encode text with MiniLM"
   ]
  },
  {
   "cell_type": "code",
   "execution_count": null,
   "metadata": {
    "colab": {
     "base_uri": "https://localhost:8080/",
     "height": 165,
     "referenced_widgets": [
      "2b1faef207d9421184139010e5ebcaec",
      "3fc7362486be447f908ad3ca05c56713",
      "1c01b9a2ea3b485ba655c11e01cf7aa1",
      "79033f9970ee477e98970c3553b7c368",
      "93b11a8312c74235a7437737be67b725",
      "b4eae9315591400ca528415a2eabbe54",
      "dd0fe1bf6b054eafaf35e4846e62d13a",
      "363e6b76dac742eb9ffaa5970f7baf19",
      "861f94a13c39471da5edee42993f0d03",
      "c6b660c556cb4087b257e86e7ef6892e",
      "91830277e84f4377be007cd645608c9f",
      "e429edf729d34f29be568618453b1cfa",
      "8bbee4346d3e4b97b9b662ec0bd6d519",
      "c64adad11ae645bf9b792bbb2e14281c",
      "b88ca909e0404099bdae940c99c5941d",
      "dd42ed6e679943ffb422f5b3f6310692",
      "a74784f7931a449dad71a93251cd918f",
      "aa99cecbd140435e9afac220466aa7ac",
      "67791d9d15c1471cadb7519e9e80a101",
      "bb951570b49d48f590f8a571b50b4ee6",
      "be70f5c7e5ab4270be88c3178fef0c10",
      "71d1afcfd81144489c23b6a0472a0be4",
      "bff2c08be8b74b6db89ff6b17d5159bf",
      "415bfb8f76af46a2a1cbe9a81f181494",
      "94ce9fb87c814407bb77111ac91e972a",
      "4218de8b0dc44d40b4bb756031108fc6",
      "fa3a80e26ac640e397f18f7f6bc5f9fe",
      "ac49169ae9074f13bdb1e789883dcb5a",
      "eeab3aa498b34f929d2d7cf49a3738c9",
      "5b266a630fa244c8b9ea1b3887104b95",
      "129bf50540514abba7a0d436987b5bee",
      "e1d2d2f2d7e34f2da4063adaa582e4aa",
      "87a0a1c5e6f846a5892005ab52415793"
     ]
    },
    "id": "4nohzwfAEUIl",
    "outputId": "632567e2-8b51-461a-cd17-3ae2e5307eae"
   },
   "outputs": [
    {
     "data": {
      "application/vnd.jupyter.widget-view+json": {
       "model_id": "2b1faef207d9421184139010e5ebcaec",
       "version_major": 2,
       "version_minor": 0
      },
      "text/plain": [
       "Batches:   0%|          | 0/2430 [00:00<?, ?it/s]"
      ]
     },
     "metadata": {},
     "output_type": "display_data"
    },
    {
     "name": "stdout",
     "output_type": "stream",
     "text": [
      "Embedding extraction for 621955 samples took 96.58 minutes\n"
     ]
    },
    {
     "data": {
      "application/vnd.jupyter.widget-view+json": {
       "model_id": "e429edf729d34f29be568618453b1cfa",
       "version_major": 2,
       "version_minor": 0
      },
      "text/plain": [
       "Batches:   0%|          | 0/608 [00:00<?, ?it/s]"
      ]
     },
     "metadata": {},
     "output_type": "display_data"
    },
    {
     "name": "stdout",
     "output_type": "stream",
     "text": [
      "Embedding extraction for 155489 samples took 23.68 minutes\n"
     ]
    },
    {
     "data": {
      "application/vnd.jupyter.widget-view+json": {
       "model_id": "bff2c08be8b74b6db89ff6b17d5159bf",
       "version_major": 2,
       "version_minor": 0
      },
      "text/plain": [
       "Batches:   0%|          | 0/760 [00:00<?, ?it/s]"
      ]
     },
     "metadata": {},
     "output_type": "display_data"
    },
    {
     "name": "stdout",
     "output_type": "stream",
     "text": [
      "Embedding extraction for 194362 samples took 29.72 minutes\n"
     ]
    }
   ],
   "source": [
    "from sentence_transformers import SentenceTransformer\n",
    "import time\n",
    "\n",
    "model = SentenceTransformer('all-MiniLM-L6-v2')\n",
    "\n",
    "def get_embeddings(text_series):\n",
    "    start = time.time()\n",
    "    embeddings = model.encode(\n",
    "        text_series.tolist(),\n",
    "        batch_size=256,\n",
    "        show_progress_bar=True\n",
    "    )\n",
    "    print(f\"Embedding extraction for {len(text_series)} samples took {((time.time()-start)/60):.2f} minutes\")\n",
    "    return embeddings\n",
    "\n",
    "# Extract embeddings for each split\n",
    "train_embeddings = get_embeddings(X_train[text_col])\n",
    "val_embeddings = get_embeddings(X_val[text_col])\n",
    "test_embeddings = get_embeddings(X_test[text_col])\n"
   ]
  },
  {
   "cell_type": "markdown",
   "metadata": {
    "id": "L2VlWvwEElAg"
   },
   "source": [
    "Prepare Tabular Features"
   ]
  },
  {
   "cell_type": "code",
   "execution_count": null,
   "metadata": {
    "id": "QcPEeyGcEnIy"
   },
   "outputs": [],
   "source": [
    "from sklearn.preprocessing import StandardScaler\n",
    "\n",
    "scaler = StandardScaler()\n",
    "scaler.fit(X_train[tabular_cols])  # Fit only on train\n",
    "\n",
    "train_tabular = scaler.transform(X_train[tabular_cols])\n",
    "val_tabular = scaler.transform(X_val[tabular_cols])\n",
    "test_tabular = scaler.transform(X_test[tabular_cols])\n"
   ]
  },
  {
   "cell_type": "markdown",
   "metadata": {
    "id": "QibKE7BSwrCo"
   },
   "source": [
    "Combine Features"
   ]
  },
  {
   "cell_type": "code",
   "execution_count": null,
   "metadata": {
    "id": "lZwspRbHwsD6"
   },
   "outputs": [],
   "source": [
    "import numpy as np\n",
    "\n",
    "X_train_all = np.hstack([train_embeddings, train_tabular])\n",
    "X_val_all = np.hstack([val_embeddings, val_tabular])\n",
    "X_test_all = np.hstack([test_embeddings, test_tabular])\n"
   ]
  },
  {
   "cell_type": "markdown",
   "metadata": {
    "id": "1j2Dn9s-w65V"
   },
   "source": [
    "Train and Validate Model - Random forest"
   ]
  },
  {
   "cell_type": "code",
   "execution_count": null,
   "metadata": {
    "colab": {
     "background_save": true
    },
    "id": "e9uQ4DeVw9Hn",
    "outputId": "132851bd-2400-4e25-85cb-d0314c6ad6df"
   },
   "outputs": [
    {
     "name": "stdout",
     "output_type": "stream",
     "text": [
      "Validation Results:\n",
      "              precision    recall  f1-score   support\n",
      "\n",
      "           0       0.91      0.78      0.84     77934\n",
      "           1       0.81      0.92      0.86     77555\n",
      "\n",
      "    accuracy                           0.85    155489\n",
      "   macro avg       0.86      0.85      0.85    155489\n",
      "weighted avg       0.86      0.85      0.85    155489\n",
      "\n"
     ]
    }
   ],
   "source": [
    "from sklearn.ensemble import RandomForestClassifier\n",
    "from sklearn.metrics import classification_report\n",
    "\n",
    "clf = RandomForestClassifier(n_estimators=100, random_state=42, n_jobs=-1)\n",
    "clf.fit(X_train_all, y_train)\n",
    "\n",
    "# Validation performance\n",
    "y_val_pred = clf.predict(X_val_all)\n",
    "print(\"Validation Results:\")\n",
    "print(classification_report(y_val, y_val_pred))\n"
   ]
  },
  {
   "cell_type": "code",
   "execution_count": null,
   "metadata": {
    "colab": {
     "base_uri": "https://localhost:8080/"
    },
    "id": "iH6wWhGlHpCT",
    "outputId": "62f949c6-1706-44e7-f4a9-fd0dea53b073"
   },
   "outputs": [
    {
     "name": "stdout",
     "output_type": "stream",
     "text": [
      "Validation set AUC: 0.9412\n"
     ]
    }
   ],
   "source": [
    "from sklearn.metrics import roc_auc_score\n",
    "\n",
    "# Get predicted probabilities for the positive class (usually class '1')\n",
    "probs = clf.predict_proba(X_val_all)[:, 1]\n",
    "\n",
    "# Calculate AUC\n",
    "auc_score = roc_auc_score(y_val, probs)\n",
    "print(f\"Validation set AUC: {auc_score:.4f}\")\n"
   ]
  },
  {
   "cell_type": "markdown",
   "metadata": {
    "id": "03yprLy4HAou"
   },
   "source": [
    "Final test evaluation"
   ]
  },
  {
   "cell_type": "code",
   "execution_count": null,
   "metadata": {
    "colab": {
     "base_uri": "https://localhost:8080/"
    },
    "id": "W1w_Ag7YHDT5",
    "outputId": "4d2c0629-b56f-40c8-caad-168da35b4390"
   },
   "outputs": [
    {
     "name": "stdout",
     "output_type": "stream",
     "text": [
      "Test Results:\n",
      "              precision    recall  f1-score   support\n",
      "\n",
      "           0       0.91      0.79      0.84     97417\n",
      "           1       0.81      0.92      0.86     96945\n",
      "\n",
      "    accuracy                           0.85    194362\n",
      "   macro avg       0.86      0.85      0.85    194362\n",
      "weighted avg       0.86      0.85      0.85    194362\n",
      "\n"
     ]
    }
   ],
   "source": [
    "y_test_pred = clf.predict(X_test_all)\n",
    "print(\"Test Results:\")\n",
    "print(classification_report(y_test, y_test_pred))\n"
   ]
  },
  {
   "cell_type": "code",
   "execution_count": null,
   "metadata": {
    "colab": {
     "base_uri": "https://localhost:8080/"
    },
    "id": "b2YhonJvHTwa",
    "outputId": "0abd93cf-564f-4ea0-946c-be5a6aee1c76"
   },
   "outputs": [
    {
     "name": "stdout",
     "output_type": "stream",
     "text": [
      "AUC: 0.9417\n"
     ]
    }
   ],
   "source": [
    "from sklearn.metrics import roc_auc_score\n",
    "\n",
    "# Get predicted probabilities for the positive class (usually class '1')\n",
    "probs = clf.predict_proba(X_test_all)[:, 1]\n",
    "\n",
    "# Calculate AUC\n",
    "auc_score = roc_auc_score(y_test, probs)\n",
    "print(f\"AUC: {auc_score:.4f}\")\n"
   ]
  },
  {
   "cell_type": "markdown",
   "metadata": {
    "id": "M1QIgVtdluEZ"
   },
   "source": [
    "# **Test for 100000 data by MiniLM**"
   ]
  },
  {
   "cell_type": "markdown",
   "metadata": {
    "id": "hLFw-3XMrO6j"
   },
   "source": [
    "MiniLM + Random forest"
   ]
  },
  {
   "cell_type": "code",
   "execution_count": null,
   "metadata": {
    "id": "UdHQvHzwku6B"
   },
   "outputs": [],
   "source": [
    "import pandas as pd\n",
    "from sklearn.model_selection import train_test_split\n",
    "\n",
    "# Load your data\n",
    "df = pd.read_csv('/content/drive/MyDrive/Research/Dataset/Fakeddit/sampled_polarity_results_100k.csv')\n",
    "df = df.sample(n=100000, random_state=42)\n",
    "\n",
    "# Fill missing text with empty string\n",
    "df['title'] = df['title'].fillna('')\n",
    "\n",
    "# Select features\n",
    "text_col = 'title'\n",
    "tabular_cols = ['num_comments', 'score', 'upvote_ratio', 'polarity', 'emotion_score']\n",
    "target_col = '2_way_label'\n",
    "\n",
    "# Split into train/val/test (64/16/20)\n",
    "X = df[[text_col] + tabular_cols]\n",
    "y = df[target_col]\n",
    "\n",
    "# 75% Train (750k), 15% Val (150k), 10% Test (100k)\n",
    "X_temp, X_test, y_temp, y_test = train_test_split(X, y, test_size=0.10, random_state=42, stratify=y)\n",
    "X_train, X_val, y_train, y_val = train_test_split(X_temp, y_temp, test_size=0.15/0.90, random_state=42, stratify=y_temp)\n",
    "\n"
   ]
  },
  {
   "cell_type": "code",
   "execution_count": null,
   "metadata": {
    "id": "fRRVfQcyvFVZ"
   },
   "outputs": [],
   "source": [
    "X_temp, X_test, y_temp, y_test = train_test_split(X, y, test_size=0.2, random_state=42, stratify=y)\n",
    "X_train, X_val, y_train, y_val = train_test_split(X_temp, y_temp, test_size=0.2, random_state=42, stratify=y_temp)"
   ]
  },
  {
   "cell_type": "code",
   "execution_count": null,
   "metadata": {
    "colab": {
     "base_uri": "https://localhost:8080/",
     "height": 182,
     "referenced_widgets": [
      "20dac48159964147af557be1f8554d27",
      "20e7083656524e628fbe4bfd05f6068b",
      "23ee9a2b80e345d68379f1148a3c4037",
      "cf1636a68111459e926185344198b460",
      "e7b4f8646f7f424fa7337a4aa881bdda",
      "781f7c6096ff4450aea7b223fbf5aaa2",
      "c989160cec394dd7b41fcd5216dbcb0c",
      "1dfc8d3a65674fcea4c2ef659079cbcb",
      "56e5c109d6ae48b89043f02e70a374fb",
      "25b0da4ecffa49aca6a509e5c2612d9e",
      "04f305c3c6fd4373a5d78851fcd04b65",
      "0835b90032114619b7a11e1f4f8a0b6f",
      "57ad407ea0a0458f9e84c4702439f5c7",
      "fb0a629df32b4f30bd9f6dbb49ceba49",
      "c887d4315e5e468cae75415f087393e6",
      "a0c818a3b1b84034a9b9b523b64c6d45",
      "f924716c931c43ffa08c24fb2d34cbf7",
      "cf261a8715864692a4b1e67ff481e3ae",
      "9bee6ec4ebde4b5a988e5851e7060a0d",
      "0ce14c0510894b1a8f455a0a50a5c886",
      "44f4c7de3e4047b4aa5cb37ead64662d",
      "9d3c4bb0157a4e4cb05a1b0c19cd67ff",
      "5c9a8cd474084b7e8f40fe8f2883c17c",
      "8d59f1013ea04a95978a8466a166c706",
      "cc5d6306cc8840b5a470aa4329754d70",
      "773eb3028b6e4ae9ab531b7015f7f0bf",
      "3838be926d34460f905b7ce7f83cc6c7",
      "164dbc671669446a95a42122f2d1da4d",
      "5f595905d03b4aca81ce88177829a7f1",
      "31325661b82d4dfb8355bd1066ae151e",
      "f6a283df17bf4c8399c6904484ce1237",
      "fd067c7fa1c94eb69ddf2f424075601a",
      "65d37b3567624c959ce908d061f84593"
     ]
    },
    "id": "0gyglFWplw6i",
    "outputId": "a3cb1917-87ca-49ac-8662-21c70d96babf"
   },
   "outputs": [
    {
     "data": {
      "application/vnd.jupyter.widget-view+json": {
       "model_id": "20dac48159964147af557be1f8554d27",
       "version_major": 2,
       "version_minor": 0
      },
      "text/plain": [
       "Batches:   0%|          | 0/250 [00:00<?, ?it/s]"
      ]
     },
     "metadata": {},
     "output_type": "display_data"
    },
    {
     "name": "stdout",
     "output_type": "stream",
     "text": [
      "Embedding extraction for 64000 samples took 9.03 minutes\n"
     ]
    },
    {
     "data": {
      "application/vnd.jupyter.widget-view+json": {
       "model_id": "0835b90032114619b7a11e1f4f8a0b6f",
       "version_major": 2,
       "version_minor": 0
      },
      "text/plain": [
       "Batches:   0%|          | 0/63 [00:00<?, ?it/s]"
      ]
     },
     "metadata": {},
     "output_type": "display_data"
    },
    {
     "name": "stdout",
     "output_type": "stream",
     "text": [
      "Embedding extraction for 16000 samples took 2.31 minutes\n"
     ]
    },
    {
     "data": {
      "application/vnd.jupyter.widget-view+json": {
       "model_id": "5c9a8cd474084b7e8f40fe8f2883c17c",
       "version_major": 2,
       "version_minor": 0
      },
      "text/plain": [
       "Batches:   0%|          | 0/79 [00:00<?, ?it/s]"
      ]
     },
     "metadata": {},
     "output_type": "display_data"
    },
    {
     "name": "stdout",
     "output_type": "stream",
     "text": [
      "Embedding extraction for 20000 samples took 2.88 minutes\n",
      "⏱️ Total training time: 854.85 seconds\n"
     ]
    }
   ],
   "source": [
    "from sentence_transformers import SentenceTransformer\n",
    "import time\n",
    "start_time = time.time()\n",
    "model = SentenceTransformer('all-MiniLM-L6-v2')\n",
    "\n",
    "def get_embeddings(text_series):\n",
    "    start = time.time()\n",
    "    embeddings = model.encode(\n",
    "        text_series.tolist(),\n",
    "        batch_size=256,\n",
    "        show_progress_bar=True\n",
    "    )\n",
    "    print(f\"Embedding extraction for {len(text_series)} samples took {((time.time()-start)/60):.2f} minutes\")\n",
    "    return embeddings\n",
    "\n",
    "# Extract embeddings for each split\n",
    "train_embeddings = get_embeddings(X_train[text_col])\n",
    "val_embeddings = get_embeddings(X_val[text_col])\n",
    "test_embeddings = get_embeddings(X_test[text_col])\n",
    "end_time = time.time()\n",
    "print(f\"⏱️ Total training time: {end_time - start_time:.2f} seconds\")\n"
   ]
  },
  {
   "cell_type": "code",
   "execution_count": null,
   "metadata": {
    "id": "k4QIrpCqpAjt"
   },
   "outputs": [],
   "source": [
    "from sklearn.preprocessing import StandardScaler\n",
    "\n",
    "scaler = StandardScaler()\n",
    "scaler.fit(X_train[tabular_cols])  # Fit only on train\n",
    "\n",
    "train_tabular = scaler.transform(X_train[tabular_cols])\n",
    "val_tabular = scaler.transform(X_val[tabular_cols])\n",
    "test_tabular = scaler.transform(X_test[tabular_cols])\n"
   ]
  },
  {
   "cell_type": "code",
   "execution_count": null,
   "metadata": {
    "id": "BhoKsLqXpFcx"
   },
   "outputs": [],
   "source": [
    "import numpy as np\n",
    "\n",
    "X_train_all = np.hstack([train_embeddings, train_tabular])\n",
    "X_val_all = np.hstack([val_embeddings, val_tabular])\n",
    "X_test_all = np.hstack([test_embeddings, test_tabular])\n"
   ]
  },
  {
   "cell_type": "code",
   "execution_count": null,
   "metadata": {
    "colab": {
     "base_uri": "https://localhost:8080/"
    },
    "id": "OWgE_UvPpJpa",
    "outputId": "74158c3c-4d28-4d7f-b860-1dd4fcdada45"
   },
   "outputs": [
    {
     "name": "stdout",
     "output_type": "stream",
     "text": [
      "Validation Results:\n",
      "              precision    recall  f1-score   support\n",
      "\n",
      "           0       0.89      0.76      0.82      7983\n",
      "           1       0.79      0.91      0.85      8017\n",
      "\n",
      "    accuracy                           0.83     16000\n",
      "   macro avg       0.84      0.83      0.83     16000\n",
      "weighted avg       0.84      0.83      0.83     16000\n",
      "\n",
      "Validation set AUC: 0.9250\n"
     ]
    }
   ],
   "source": [
    "from sklearn.ensemble import RandomForestClassifier\n",
    "from sklearn.metrics import classification_report\n",
    "\n",
    "clf = RandomForestClassifier(n_estimators=100, random_state=42, n_jobs=-1)\n",
    "clf.fit(X_train_all, y_train)\n",
    "\n",
    "# Validation performance\n",
    "y_val_pred = clf.predict(X_val_all)\n",
    "print(\"Validation Results:\")\n",
    "print(classification_report(y_val, y_val_pred))\n",
    "from sklearn.metrics import roc_auc_score\n",
    "\n",
    "# Get predicted probabilities for the positive class (usually class '1')\n",
    "probs = clf.predict_proba(X_val_all)[:, 1]\n",
    "\n",
    "# Calculate AUC\n",
    "auc_score = roc_auc_score(y_val, probs)\n",
    "print(f\"Validation set AUC: {auc_score:.4f}\")"
   ]
  },
  {
   "cell_type": "code",
   "execution_count": null,
   "metadata": {
    "colab": {
     "base_uri": "https://localhost:8080/"
    },
    "id": "Xz5swgSxsyx9",
    "outputId": "d28eab1e-4831-4ee0-9550-7014ae97ab37"
   },
   "outputs": [
    {
     "name": "stdout",
     "output_type": "stream",
     "text": [
      "Test Results:\n",
      "              precision    recall  f1-score   support\n",
      "\n",
      "           0       0.89      0.76      0.82      9979\n",
      "           1       0.79      0.91      0.84     10021\n",
      "\n",
      "    accuracy                           0.83     20000\n",
      "   macro avg       0.84      0.83      0.83     20000\n",
      "weighted avg       0.84      0.83      0.83     20000\n",
      "\n",
      "AUC: 0.9243\n"
     ]
    }
   ],
   "source": [
    "y_test_pred = clf.predict(X_test_all)\n",
    "print(\"Test Results:\")\n",
    "print(classification_report(y_test, y_test_pred))\n",
    "from sklearn.metrics import roc_auc_score\n",
    "\n",
    "# Get predicted probabilities for the positive class (usually class '1')\n",
    "probs = clf.predict_proba(X_test_all)[:, 1]\n",
    "\n",
    "# Calculate AUC\n",
    "auc_score = roc_auc_score(y_test, probs)\n",
    "print(f\"AUC: {auc_score:.4f}\")\n"
   ]
  },
  {
   "cell_type": "markdown",
   "metadata": {
    "id": "HlDgShNSfYq-"
   },
   "source": [
    "MiniLM + ReLU based neural network"
   ]
  },
  {
   "cell_type": "code",
   "execution_count": null,
   "metadata": {
    "id": "TzVvznFvfo31"
   },
   "outputs": [],
   "source": [
    "import pandas as pd\n",
    "from sklearn.model_selection import train_test_split\n",
    "\n",
    "# Load your data\n",
    "df = pd.read_csv('/content/drive/MyDrive/Research/Dataset/Fakeddit/sampled_polarity_results_100k.csv')\n",
    "\n",
    "# Fill missing text with empty string\n",
    "df['title'] = df['title'].fillna('')\n",
    "\n",
    "# Select features\n",
    "text_col = 'title'\n",
    "tabular_cols = ['num_comments', 'score', 'upvote_ratio', 'polarity', 'emotion_score']\n",
    "target_col = '2_way_label'\n",
    "\n",
    "\n",
    "# Split into train/val/test (64/16/20)\n",
    "X = df[[text_col] + tabular_cols]\n",
    "y = df[target_col]\n",
    "\n",
    "# 75% Train (750k), 15% Val (150k), 10% Test (100k)\n",
    "X_temp, X_test, y_temp, y_test = train_test_split(X, y, test_size=0.10, random_state=42, stratify=y)\n",
    "X_train, X_val, y_train, y_val = train_test_split(X_temp, y_temp, test_size=0.15/0.90, random_state=42, stratify=y_temp)"
   ]
  },
  {
   "cell_type": "code",
   "execution_count": null,
   "metadata": {
    "colab": {
     "base_uri": "https://localhost:8080/",
     "height": 659,
     "referenced_widgets": [
      "ab34e1c946c346f397bb4091b10cffff",
      "1df9722d4a8440638e4d9c8d99dbc49e",
      "348cf8e87dc94cd6837ea2e0ea7df15c",
      "3987bf34e573420aadd259abe901a712",
      "7c12af8d619a430a82e6e67a8914404d",
      "3878526cecf346618382f5f0c69a5f7a",
      "7ad55a57ea874ea1896dd0a0327ff5af",
      "4af06149223d4abd805352d205698747",
      "3a10090c950d475496ac17216d6da10b",
      "7d3a8fbbdf70407992b9747c0bc90bc7",
      "3e22acd0fbd34cd8be97b0cafbacd95b",
      "739651da22624fe49a925d2ee537f65f",
      "312e2a71a29e4baf8162d276bd03e386",
      "2cc3bd4f792341d7ae5719073bbd23b3",
      "dbc8fe87545d40fe8300905683433d8f",
      "d394e88499394511947985ea38e27e16",
      "7514b0f508d44c53a82bb84741c313b2",
      "5ed5ed33f6154d08b41fc4268bff54b5",
      "0fe76b7b907b402fbe031d7c3200fe15",
      "f5ffdeae88814121b823a97ec0d4cca4",
      "d12ec4e9b0164fc88fbef07529cde738",
      "27aef8f2ca294bb8b57c9882fc9a3597",
      "a9ec6257990241578134c13d8cacee16",
      "af5a3c47367849aabfc7294b212cc4d1",
      "5b4c3a0f2339489194bb0045a4c65d48",
      "611502ecc36e4b318f5c3b10b82389d2",
      "baa1ff0264664a8e97534bcc330a03df",
      "bb3fa30c4eec4503ba55819374c361bf",
      "6dddbde4518944028dddd002c39c0af9",
      "b0155dede290446f8bda01b9f28d956c",
      "bdec2ff30cd94033b8da8b79ce093344",
      "86d98ab7c4b74643846001b87e80cd2e",
      "6168fc3b8ffb437889801544cc30daea",
      "58be66a0f5ef4ea3920a38a53432d612",
      "276579e814e94efca393f85cd283a234",
      "2f074e011e8e4a6bbcb7492b86f4b10d",
      "668d849b67b948238d2e918613720491",
      "f18a6f7397ef4dd1bfc139a9cf34f344",
      "75ec9996521348bfa609bee132e761be",
      "96eb85210c42417c913b402715cf882d",
      "1ad597a870e8432b8912ba26c01ef792",
      "0938fe0a72654735a5570812d52a3d63",
      "a1d8026c1cae44c69286519a74b44144",
      "f51b410fa2f745a6a5cc1fb41906e036",
      "bd909b51346d4d8da1fed39f7d8e5e09",
      "e3ac312cb29e4aa9a79caed8a0ea6584",
      "674d7e746ed6447ca9b79a5bdac7e380",
      "aeb3dfc6957444bf832efd41b1a5785b",
      "981ac7f783694de28d2802e92a231f30",
      "4e9efc9569a0448b8361e2b7e8ee383c",
      "3b26590c54dd407a9ca378a9080a65b2",
      "e775e01d310c4d1ebdfc3c150f7e6e80",
      "f3370f751ab94512ba4420b030f0547e",
      "622e461079b5453c931c4e1ef21bf5ab",
      "2b51acbf7170435c9dcb9b0fe698d3c0",
      "39c8b2b856c64292892f667b3a3ea368",
      "49b695246623495097152d426abf8b0e",
      "8e941ba217ab448f8dd123eaf1a41f00",
      "9ee5a88782364fedbef4ddcb178627d3",
      "a3316ee527e3463cbfdc9a2d40bebcd2",
      "59cefcb745634a2d8054083bcc5df58e",
      "9e0ee83cbd0a410795f1e056fc78c23d",
      "911fb2f0e7934edbb4fdfb3b6a961cf3",
      "9922807e0e14437299db3ed5ad8392c0",
      "075f7f08d2fa4bdfb4f518460a36200c",
      "ddd48b1d209a4a50a56a210a648a7e80",
      "e883dbbe2f51431f86e097e5e4ad7c8c",
      "49d7dcc7876a4c8eb0ee41aae23b5361",
      "be942987834148dcbd118dd7ee3fd73d",
      "c4c666b39c414f0182e1064bcea447e4",
      "c3d44d1c904344bba0c1393d7d2563eb",
      "84ea319ed7114f5cacb6cacba2e18cae",
      "04d0a04b510a4491a7da6f1d62ff86f7",
      "005fa0b289d144aebba4b7daa6d5aec2",
      "c8951ad3f321449e835ecd1b640700d5",
      "a8d1c5d67fce434991fe4a3994cf9c2f",
      "0de6fb1d0a534276b66a7530b358997f",
      "249bc0c0bc8e46faa81952ac4bb8d4f9",
      "cc5c5beac6ec4ca2a7a16ba4e425043b",
      "472ba282b6394fc4ad9e516e685b54b8",
      "0c66b40cda8a4c308438479ca3391d39",
      "8dd0b3793c894836ac6946fcccc92cbd",
      "07dee2f87705415e9fc3ee5310afdacf",
      "d011a43bfdbd4c30b6f913f5ffd73b2e",
      "d7abed8c6d36487c8310be882d856e94",
      "492636dc1eee483daae3a9e1b0feed27",
      "778e75032a8f4913b2da43b56817b3e5",
      "38a901d3a1474a8fa6902d2b4dec37e9",
      "1fb179d556c542f084912dd0e47d2000",
      "17d777211e4b4479a235e6674b166431",
      "f5b7611b993449bb99937c7f2ca2014b",
      "ed05b4f3d7b54ce2988ddabfcab69a3b",
      "34e49ef748f34e96b10c9b3e6c3d618d",
      "05257410bb9e465b886b4999954941ed",
      "984e0e0b40354847befcf86cf72a00ea",
      "3ff555a1c01544a98f8ba01bcb196728",
      "1cad7be3e8f54fddb80ac850fb3eb0c6",
      "09a6031cfcab4aa4bf8990e66283b8f8",
      "34c46319fc304dbd8c32664ec8c038eb",
      "faad7f0666eb4049b90c313df2fefbcb",
      "73c475e9cc134ee184e5266f49961dd5",
      "a5bb465f54da452da64e7e5f2bc738b1",
      "aad49b92fa4241c3a451ff7d7efa9c51",
      "d7020b71ea5e43f6accb4524c9c0039f",
      "db6fe8b969ca47e69ae4f248ee227a2e",
      "3c1b3e2778f94b14834096ce6e1af68e",
      "d4320caaf0b54a9b828636875efac85a",
      "3bfa2dc5dfd147a29cf501c27b742bf7",
      "435aeef73a814d56af7c64da2b8963e3",
      "7c0fd288cfa04c9cbe0e0401edac4aa3",
      "605a91c4a2774b2d922c90dee3a19668",
      "2760b0557d0c41dd90533ffe4ed74330",
      "b79a29d6ac114e1ea1e870599db57138",
      "404cb0b04ac84be7bb93e2bdbcaed22a",
      "eab75aa605c248e7a19f41d2d40abab6",
      "0ade1b8ec00943f1baddcfa9cce227c1",
      "bb978080ea6046cb86825518759e4625",
      "f5c2ae1281244502a7d3c30ae03115f0",
      "50a4ae2d324747eda26570c949660f7c",
      "01990fb4d3ca462785bf4a6d6b091a88",
      "3054fb2deb1945d0b57f1947b8a9faf7",
      "bf4f1df5d4494408a7905aebf0bdf552",
      "882def9f7d8b41a3a7647d7abe57ccd5",
      "fb49e6e265ec4267aad83399e94729da",
      "a0e4a42ec43347c29ad7403c568ba1d4",
      "9e4fdbfedc844ab085996a018ff3ac25",
      "523f8efa4be5405ebe80c0ce3a2c3e4a",
      "b88cf5941e324afc811b333c3fd5d283",
      "82cc968ab60340ae9ec326a40fa824f1",
      "095074880828477f85c54bebc6949ec4",
      "70ab62c1b7714ee9ba8f05fff3fe5410",
      "620cfee2963c42aa986fb8881702f5c5",
      "842fb78e3af146fb8f11f2494a0c8213",
      "32d11ecd821a48c883fd419c5e8dc9f0",
      "d9f6a728ac924ff4ad5bf06734df8494",
      "cfb01f6fed1a4e46a3f3e04a565f7d48",
      "153cdc4e22594cc2825b59b24bce9723",
      "563246d83f334678b02ca7aff2b152c1",
      "26cd8b9d4d984dd68769726d99b68503",
      "2d18a2a98a8743bc8194c6e6fc9957a0",
      "257fa8e04b66494faaf39f425bf45e82",
      "61595ad4ad834321bb92d96e1fe33992",
      "3334b61004164c5c940d03d43df6f9d7",
      "ae2c8f79601f495a83b8e2623d8fd3aa",
      "42ffc1d785dd49b4a53c0a032deaeddd",
      "7c88219bd90d4ecca09fb4f5f2d7ca5f",
      "e1627b0ea8af42ee84c9682562f09058",
      "d356c24702874110899286f07591d222",
      "0d8658bfad4f45bda292f9d5d791ecef",
      "d965d1abebfe4c5283acc8bef8407429",
      "66a215e6935e466bba2b0f76a15d336a",
      "10da6d2804104c75a9c82b0c5684c949",
      "c9bf3c57840c4cf6a9227fc193832718",
      "3fa61e0b11824dd49dd28ae602b6acca"
     ]
    },
    "id": "zpdAk46Ugsfg",
    "outputId": "ac2689fb-dbbc-43aa-c591-607477bf4d6b"
   },
   "outputs": [
    {
     "name": "stderr",
     "output_type": "stream",
     "text": [
      "/usr/local/lib/python3.11/dist-packages/huggingface_hub/utils/_auth.py:94: UserWarning: \n",
      "The secret `HF_TOKEN` does not exist in your Colab secrets.\n",
      "To authenticate with the Hugging Face Hub, create a token in your settings tab (https://huggingface.co/settings/tokens), set it as secret in your Google Colab and restart your session.\n",
      "You will be able to reuse this secret in all of your notebooks.\n",
      "Please note that authentication is recommended but still optional to access public models or datasets.\n",
      "  warnings.warn(\n"
     ]
    },
    {
     "data": {
      "application/vnd.jupyter.widget-view+json": {
       "model_id": "ab34e1c946c346f397bb4091b10cffff",
       "version_major": 2,
       "version_minor": 0
      },
      "text/plain": [
       "modules.json:   0%|          | 0.00/349 [00:00<?, ?B/s]"
      ]
     },
     "metadata": {},
     "output_type": "display_data"
    },
    {
     "data": {
      "application/vnd.jupyter.widget-view+json": {
       "model_id": "739651da22624fe49a925d2ee537f65f",
       "version_major": 2,
       "version_minor": 0
      },
      "text/plain": [
       "config_sentence_transformers.json:   0%|          | 0.00/116 [00:00<?, ?B/s]"
      ]
     },
     "metadata": {},
     "output_type": "display_data"
    },
    {
     "data": {
      "application/vnd.jupyter.widget-view+json": {
       "model_id": "a9ec6257990241578134c13d8cacee16",
       "version_major": 2,
       "version_minor": 0
      },
      "text/plain": [
       "README.md:   0%|          | 0.00/10.5k [00:00<?, ?B/s]"
      ]
     },
     "metadata": {},
     "output_type": "display_data"
    },
    {
     "data": {
      "application/vnd.jupyter.widget-view+json": {
       "model_id": "58be66a0f5ef4ea3920a38a53432d612",
       "version_major": 2,
       "version_minor": 0
      },
      "text/plain": [
       "sentence_bert_config.json:   0%|          | 0.00/53.0 [00:00<?, ?B/s]"
      ]
     },
     "metadata": {},
     "output_type": "display_data"
    },
    {
     "data": {
      "application/vnd.jupyter.widget-view+json": {
       "model_id": "bd909b51346d4d8da1fed39f7d8e5e09",
       "version_major": 2,
       "version_minor": 0
      },
      "text/plain": [
       "config.json:   0%|          | 0.00/612 [00:00<?, ?B/s]"
      ]
     },
     "metadata": {},
     "output_type": "display_data"
    },
    {
     "data": {
      "application/vnd.jupyter.widget-view+json": {
       "model_id": "39c8b2b856c64292892f667b3a3ea368",
       "version_major": 2,
       "version_minor": 0
      },
      "text/plain": [
       "model.safetensors:   0%|          | 0.00/90.9M [00:00<?, ?B/s]"
      ]
     },
     "metadata": {},
     "output_type": "display_data"
    },
    {
     "data": {
      "application/vnd.jupyter.widget-view+json": {
       "model_id": "e883dbbe2f51431f86e097e5e4ad7c8c",
       "version_major": 2,
       "version_minor": 0
      },
      "text/plain": [
       "tokenizer_config.json:   0%|          | 0.00/350 [00:00<?, ?B/s]"
      ]
     },
     "metadata": {},
     "output_type": "display_data"
    },
    {
     "data": {
      "application/vnd.jupyter.widget-view+json": {
       "model_id": "249bc0c0bc8e46faa81952ac4bb8d4f9",
       "version_major": 2,
       "version_minor": 0
      },
      "text/plain": [
       "vocab.txt:   0%|          | 0.00/232k [00:00<?, ?B/s]"
      ]
     },
     "metadata": {},
     "output_type": "display_data"
    },
    {
     "data": {
      "application/vnd.jupyter.widget-view+json": {
       "model_id": "1fb179d556c542f084912dd0e47d2000",
       "version_major": 2,
       "version_minor": 0
      },
      "text/plain": [
       "tokenizer.json:   0%|          | 0.00/466k [00:00<?, ?B/s]"
      ]
     },
     "metadata": {},
     "output_type": "display_data"
    },
    {
     "data": {
      "application/vnd.jupyter.widget-view+json": {
       "model_id": "faad7f0666eb4049b90c313df2fefbcb",
       "version_major": 2,
       "version_minor": 0
      },
      "text/plain": [
       "special_tokens_map.json:   0%|          | 0.00/112 [00:00<?, ?B/s]"
      ]
     },
     "metadata": {},
     "output_type": "display_data"
    },
    {
     "data": {
      "application/vnd.jupyter.widget-view+json": {
       "model_id": "605a91c4a2774b2d922c90dee3a19668",
       "version_major": 2,
       "version_minor": 0
      },
      "text/plain": [
       "config.json:   0%|          | 0.00/190 [00:00<?, ?B/s]"
      ]
     },
     "metadata": {},
     "output_type": "display_data"
    },
    {
     "data": {
      "application/vnd.jupyter.widget-view+json": {
       "model_id": "bf4f1df5d4494408a7905aebf0bdf552",
       "version_major": 2,
       "version_minor": 0
      },
      "text/plain": [
       "Batches:   0%|          | 0/293 [00:00<?, ?it/s]"
      ]
     },
     "metadata": {},
     "output_type": "display_data"
    },
    {
     "name": "stdout",
     "output_type": "stream",
     "text": [
      "Embedding extraction for 75000 samples took 11.17 minutes\n"
     ]
    },
    {
     "data": {
      "application/vnd.jupyter.widget-view+json": {
       "model_id": "842fb78e3af146fb8f11f2494a0c8213",
       "version_major": 2,
       "version_minor": 0
      },
      "text/plain": [
       "Batches:   0%|          | 0/59 [00:00<?, ?it/s]"
      ]
     },
     "metadata": {},
     "output_type": "display_data"
    },
    {
     "name": "stdout",
     "output_type": "stream",
     "text": [
      "Embedding extraction for 15000 samples took 2.31 minutes\n"
     ]
    },
    {
     "data": {
      "application/vnd.jupyter.widget-view+json": {
       "model_id": "ae2c8f79601f495a83b8e2623d8fd3aa",
       "version_major": 2,
       "version_minor": 0
      },
      "text/plain": [
       "Batches:   0%|          | 0/40 [00:00<?, ?it/s]"
      ]
     },
     "metadata": {},
     "output_type": "display_data"
    },
    {
     "name": "stdout",
     "output_type": "stream",
     "text": [
      "Embedding extraction for 10000 samples took 1.48 minutes\n",
      "⏱️ Total training time: 913.54 seconds\n"
     ]
    }
   ],
   "source": [
    "from sentence_transformers import SentenceTransformer\n",
    "import time\n",
    "start_time = time.time()\n",
    "model = SentenceTransformer('all-MiniLM-L6-v2')\n",
    "\n",
    "def get_embeddings(text_series):\n",
    "    start = time.time()\n",
    "    embeddings = model.encode(\n",
    "        text_series.tolist(),\n",
    "        batch_size=256,\n",
    "        show_progress_bar=True\n",
    "    )\n",
    "    print(f\"Embedding extraction for {len(text_series)} samples took {((time.time()-start)/60):.2f} minutes\")\n",
    "    return embeddings\n",
    "\n",
    "# Extract embeddings for each split\n",
    "train_embeddings = get_embeddings(X_train[text_col])\n",
    "val_embeddings = get_embeddings(X_val[text_col])\n",
    "test_embeddings = get_embeddings(X_test[text_col])\n",
    "end_time = time.time()\n",
    "print(f\"⏱️ Total training time: {end_time - start_time:.2f} seconds\")\n"
   ]
  },
  {
   "cell_type": "code",
   "execution_count": null,
   "metadata": {
    "id": "mXpIaudQkgnU"
   },
   "outputs": [],
   "source": [
    "from sklearn.preprocessing import StandardScaler\n",
    "\n",
    "scaler = StandardScaler()\n",
    "scaler.fit(X_train[tabular_cols])  # Fit only on train\n",
    "\n",
    "train_tabular = scaler.transform(X_train[tabular_cols])\n",
    "val_tabular = scaler.transform(X_val[tabular_cols])\n",
    "test_tabular = scaler.transform(X_test[tabular_cols])\n"
   ]
  },
  {
   "cell_type": "code",
   "execution_count": null,
   "metadata": {
    "id": "5kX4XpflklWr"
   },
   "outputs": [],
   "source": [
    "import numpy as np\n",
    "\n",
    "X_train_all = np.hstack([train_embeddings, train_tabular])\n",
    "X_val_all = np.hstack([val_embeddings, val_tabular])\n",
    "X_test_all = np.hstack([test_embeddings, test_tabular])\n"
   ]
  },
  {
   "cell_type": "code",
   "execution_count": null,
   "metadata": {
    "id": "CrRtB700p_mJ"
   },
   "outputs": [],
   "source": [
    "# Replace NaNs with 0.0, and Infs with large finite numbers\n",
    "X_train_all = np.nan_to_num(X_train_all, nan=0.0, posinf=1e5, neginf=-1e5)\n",
    "X_val_all = np.nan_to_num(X_val_all, nan=0.0, posinf=1e5, neginf=-1e5)\n",
    "X_test_all = np.nan_to_num(X_test_all, nan=0.0, posinf=1e5, neginf=-1e5)\n"
   ]
  },
  {
   "cell_type": "code",
   "execution_count": null,
   "metadata": {
    "colab": {
     "base_uri": "https://localhost:8080/"
    },
    "id": "pbHgClK_fcRu",
    "outputId": "050188da-5c4f-4de7-827f-527a635a2980"
   },
   "outputs": [
    {
     "name": "stdout",
     "output_type": "stream",
     "text": [
      "Epoch 1/5\n",
      "\u001b[1m293/293\u001b[0m \u001b[32m━━━━━━━━━━━━━━━━━━━━\u001b[0m\u001b[37m\u001b[0m \u001b[1m4s\u001b[0m 8ms/step - accuracy: 0.7496 - loss: 0.5151 - val_accuracy: 0.8363 - val_loss: 0.3658\n",
      "Epoch 2/5\n",
      "\u001b[1m293/293\u001b[0m \u001b[32m━━━━━━━━━━━━━━━━━━━━\u001b[0m\u001b[37m\u001b[0m \u001b[1m3s\u001b[0m 11ms/step - accuracy: 0.8425 - loss: 0.3593 - val_accuracy: 0.8525 - val_loss: 0.3364\n",
      "Epoch 3/5\n",
      "\u001b[1m293/293\u001b[0m \u001b[32m━━━━━━━━━━━━━━━━━━━━\u001b[0m\u001b[37m\u001b[0m \u001b[1m4s\u001b[0m 6ms/step - accuracy: 0.8548 - loss: 0.3303 - val_accuracy: 0.8607 - val_loss: 0.3207\n",
      "Epoch 4/5\n",
      "\u001b[1m293/293\u001b[0m \u001b[32m━━━━━━━━━━━━━━━━━━━━\u001b[0m\u001b[37m\u001b[0m \u001b[1m3s\u001b[0m 6ms/step - accuracy: 0.8675 - loss: 0.3058 - val_accuracy: 0.8666 - val_loss: 0.3120\n",
      "Epoch 5/5\n",
      "\u001b[1m293/293\u001b[0m \u001b[32m━━━━━━━━━━━━━━━━━━━━\u001b[0m\u001b[37m\u001b[0m \u001b[1m2s\u001b[0m 7ms/step - accuracy: 0.8767 - loss: 0.2913 - val_accuracy: 0.8722 - val_loss: 0.3038\n"
     ]
    },
    {
     "data": {
      "text/plain": [
       "<keras.src.callbacks.history.History at 0x7bbc717ccc90>"
      ]
     },
     "execution_count": 35,
     "metadata": {},
     "output_type": "execute_result"
    }
   ],
   "source": [
    "from tensorflow.keras.models import Model\n",
    "from tensorflow.keras.layers import Input, Dense, BatchNormalization, Dropout\n",
    "from tensorflow.keras.optimizers import Adam\n",
    "# Ensure clean targets\n",
    "\n",
    "\n",
    "input_layer = Input(shape=(X_train_all.shape[1],))\n",
    "x = Dense(128, activation='relu')(input_layer)\n",
    "x = Dropout(0.3)(x)\n",
    "x = Dense(64, activation='relu')(x)\n",
    "x = Dropout(0.2)(x)\n",
    "output = Dense(1, activation='sigmoid')(x)\n",
    "\n",
    "relu_model = Model(inputs=input_layer, outputs=output)\n",
    "relu_model.compile(optimizer=Adam(), loss='binary_crossentropy', metrics=['accuracy'])\n",
    "\n",
    "# Train\n",
    "relu_model.fit(X_train_all, y_train, validation_data=(X_val_all, y_val), epochs=5, batch_size=256)\n"
   ]
  },
  {
   "cell_type": "code",
   "execution_count": null,
   "metadata": {
    "colab": {
     "base_uri": "https://localhost:8080/"
    },
    "id": "05zF28OplLDe",
    "outputId": "26e0f68f-44c5-40ea-ec35-7f38e980f746"
   },
   "outputs": [
    {
     "name": "stdout",
     "output_type": "stream",
     "text": [
      "\u001b[1m59/59\u001b[0m \u001b[32m━━━━━━━━━━━━━━━━━━━━\u001b[0m\u001b[37m\u001b[0m \u001b[1m0s\u001b[0m 4ms/step\n",
      "\n",
      "Validation Classification Report:\n",
      "              precision    recall  f1-score   support\n",
      "\n",
      "         0.0       0.89      0.85      0.87      7484\n",
      "         1.0       0.86      0.89      0.87      7516\n",
      "\n",
      "    accuracy                           0.87     15000\n",
      "   macro avg       0.87      0.87      0.87     15000\n",
      "weighted avg       0.87      0.87      0.87     15000\n",
      "\n",
      "Validation AUC: 0.9433\n",
      "\u001b[1m40/40\u001b[0m \u001b[32m━━━━━━━━━━━━━━━━━━━━\u001b[0m\u001b[37m\u001b[0m \u001b[1m0s\u001b[0m 4ms/step\n",
      "\n",
      "Test Classification Report:\n",
      "              precision    recall  f1-score   support\n",
      "\n",
      "         0.0       0.88      0.85      0.86      4990\n",
      "         1.0       0.85      0.88      0.87      5010\n",
      "\n",
      "    accuracy                           0.87     10000\n",
      "   macro avg       0.87      0.87      0.87     10000\n",
      "weighted avg       0.87      0.87      0.87     10000\n",
      "\n",
      "Test AUC: 0.9409\n"
     ]
    }
   ],
   "source": [
    "# === Validation Set Evaluation ===\n",
    "val_probs = relu_model.predict(X_val_all, batch_size=256)\n",
    "val_preds = (val_probs > 0.5).astype(int)\n",
    "\n",
    "print(\"\\nValidation Classification Report:\")\n",
    "print(classification_report(y_val, val_preds))\n",
    "\n",
    "if np.isnan(val_probs).any():\n",
    "    print(\"⚠️ Warning: NaNs found in validation probabilities. Skipping AUC.\")\n",
    "else:\n",
    "    val_auc = roc_auc_score(y_val, val_probs)\n",
    "    print(f\"Validation AUC: {val_auc:.4f}\")\n",
    "\n",
    "# === Test Set Evaluation ===\n",
    "test_probs = relu_model.predict(X_test_all, batch_size=256)\n",
    "test_preds = (test_probs > 0.5).astype(int)\n",
    "\n",
    "print(\"\\nTest Classification Report:\")\n",
    "print(classification_report(y_test, test_preds))\n",
    "\n",
    "if np.isnan(test_probs).any():\n",
    "    print(\"⚠️ Warning: NaNs found in test probabilities. Skipping AUC.\")\n",
    "else:\n",
    "    test_auc = roc_auc_score(y_test, test_probs)\n",
    "    print(f\"Test AUC: {test_auc:.4f}\")\n"
   ]
  },
  {
   "cell_type": "markdown",
   "metadata": {
    "id": "2aX4FiYiIpxz"
   },
   "source": [
    "# BERT + numeric hybrid model"
   ]
  },
  {
   "cell_type": "code",
   "execution_count": null,
   "metadata": {
    "id": "GR-ZHNm9Is2y"
   },
   "outputs": [],
   "source": [
    "import pandas as pd\n",
    "import numpy as np\n",
    "import torch\n",
    "import time\n",
    "from torch import nn\n",
    "from sklearn.model_selection import train_test_split\n",
    "from sklearn.preprocessing import StandardScaler\n",
    "from sklearn.metrics import classification_report\n",
    "from torch.utils.data import Dataset, DataLoader\n",
    "from transformers import BertTokenizer, BertModel\n"
   ]
  },
  {
   "cell_type": "code",
   "execution_count": null,
   "metadata": {
    "id": "iclDGwyBQEhY"
   },
   "outputs": [],
   "source": [
    "# df = pd.read_csv('/content/drive/MyDrive/Research/Dataset/Fakeddit/all_samples (also includes non multimodal)/Original dataset/polarity_results.csv')\n",
    "# df = df.sample(n=100000, random_state=42)"
   ]
  },
  {
   "cell_type": "markdown",
   "metadata": {
    "id": "GX1S3QEeQ6s4"
   },
   "source": [
    "Preprocess Data"
   ]
  },
  {
   "cell_type": "code",
   "execution_count": null,
   "metadata": {
    "id": "VFlH4LUzQ4O6"
   },
   "outputs": [],
   "source": [
    "df = df.dropna(subset=['title'])\n",
    "numeric_cols = ['num_comments', 'score', 'upvote_ratio', 'polarity', 'emotion_score']\n",
    "df[numeric_cols] = df[numeric_cols].fillna(0)\n",
    "\n",
    "X_text = df['title'].values\n",
    "X_numeric = df[numeric_cols].values\n",
    "y = df['2_way_label'].values\n",
    "\n",
    "# First: 85% train+val, 15% test\n",
    "X_text_tv, X_text_test, X_num_tv, X_num_test, y_tv, y_test = train_test_split(\n",
    "    X_text, X_numeric, y, test_size=0.15, stratify=y, random_state=42\n",
    ")\n",
    "\n",
    "# Then: 82.35% train, 17.65% val (which is 70/15 split from total)\n",
    "X_text_train, X_text_val, X_num_train, X_num_val, y_train, y_val = train_test_split(\n",
    "    X_text_tv, X_num_tv, y_tv, test_size=0.1765, stratify=y_tv, random_state=42\n",
    ")\n"
   ]
  },
  {
   "cell_type": "markdown",
   "metadata": {
    "id": "-s05g9ogRzHE"
   },
   "source": [
    "Tokenizer & Dataset Class"
   ]
  },
  {
   "cell_type": "code",
   "execution_count": null,
   "metadata": {
    "colab": {
     "base_uri": "https://localhost:8080/",
     "height": 145,
     "referenced_widgets": [
      "7f2a2f61c98e425681df5818ccdf38f6",
      "0f98cdc721ff45aa99a58fa52b4d353d",
      "32657d4eb33445c4bc7e87333bcd7bf1",
      "1274d0f217784f778953acdbb4b84eb5",
      "3a48f7f9d7fa4f7bb3eeeb8877443349",
      "e3d637a7c5f143e89a59da10efa92c95",
      "fe494d8cca3044d5b57fa10a9accabb8",
      "ee0910d7ac4d47ef8ed6ecb92cde533e",
      "1904508623c94f6cbc940be917b8eccf",
      "27a89737b5d542d287e5d8a1412a41b2",
      "914275ef352d465ab31329c4f3d8c1f9",
      "d43add48d8ae44898d105b1fd25a916f",
      "3d8880d589064811813749dce8637925",
      "97201ccda28f46bd88e2544bcd33d030",
      "770fa6d1c38644f4a15a20ac61d4b96a",
      "e775d7a0d448473eba4ad42b30d4822c",
      "52ee9b693c1d46d5b448bad521cc488f",
      "01e5079b67664f5d882d40aa0f6e9d30",
      "058fad5b57a5423399ad8c3e4b007c4c",
      "d8adcddf5b1c472da501133f8ee406ec",
      "cde00e90d2f449e39ef5bcafef5a1806",
      "036291fb0e5f4abf8a069a07ea8a36f1",
      "464ce63650204aca98198d598ba0453d",
      "f665afe83e9942c583d40bbfc8b0218a",
      "a8cac447a931497eaec2b7ee39f128bf",
      "6628c294e3e64534ae17ad4abafec73e",
      "4e98345b8a8f4b93845f65720763ac14",
      "e3cbda7b8dae4f24be95a1b40f2e7c1c",
      "d7eeaf1ba31740b99af50865f49a49e2",
      "4c7e840fa8ae47a9bb4ba4e6a8e93adf",
      "5c8bf9e375d64fee8af04902f8d658a0",
      "f00ab86ad2de4ab99873ea6bc80902b9",
      "1c1303a913c441e98617ef59d941ad50",
      "c6734864faf44c78872c8b18be350a20",
      "e4deb50eeef34f0e93c6e3f7d5b93833",
      "dee94da2d0c84209bd667dea58fdfa6c",
      "6dde4bc75a58469d88dfe4f3a9ebeafd",
      "09e0eaec8f5e47e6b81c0bd2b60e1971",
      "2dcede2255b7405f8561595b311756b2",
      "a26d6f4219ce46bb85c3242e89b258c6",
      "d5390e5ba3f14f1aa8253ad77e2cfd68",
      "6dc07b3893114add8aa6e569c45efe4d",
      "de7bc31392d04b1fa4c953aecae9636c",
      "a9b13377e9694163bb43dd03b225b816"
     ]
    },
    "id": "RUJsyY-xRsm0",
    "outputId": "81e07ca2-9659-4f7b-b3ed-d4b09d3693ba"
   },
   "outputs": [
    {
     "data": {
      "application/vnd.jupyter.widget-view+json": {
       "model_id": "7f2a2f61c98e425681df5818ccdf38f6",
       "version_major": 2,
       "version_minor": 0
      },
      "text/plain": [
       "tokenizer_config.json:   0%|          | 0.00/48.0 [00:00<?, ?B/s]"
      ]
     },
     "metadata": {},
     "output_type": "display_data"
    },
    {
     "data": {
      "application/vnd.jupyter.widget-view+json": {
       "model_id": "d43add48d8ae44898d105b1fd25a916f",
       "version_major": 2,
       "version_minor": 0
      },
      "text/plain": [
       "vocab.txt:   0%|          | 0.00/232k [00:00<?, ?B/s]"
      ]
     },
     "metadata": {},
     "output_type": "display_data"
    },
    {
     "data": {
      "application/vnd.jupyter.widget-view+json": {
       "model_id": "464ce63650204aca98198d598ba0453d",
       "version_major": 2,
       "version_minor": 0
      },
      "text/plain": [
       "tokenizer.json:   0%|          | 0.00/466k [00:00<?, ?B/s]"
      ]
     },
     "metadata": {},
     "output_type": "display_data"
    },
    {
     "data": {
      "application/vnd.jupyter.widget-view+json": {
       "model_id": "c6734864faf44c78872c8b18be350a20",
       "version_major": 2,
       "version_minor": 0
      },
      "text/plain": [
       "config.json:   0%|          | 0.00/570 [00:00<?, ?B/s]"
      ]
     },
     "metadata": {},
     "output_type": "display_data"
    }
   ],
   "source": [
    "tokenizer = BertTokenizer.from_pretrained('bert-base-uncased')\n",
    "\n",
    "class FakeNewsDataset(Dataset):\n",
    "    def __init__(self, texts, numerics, labels):\n",
    "        self.texts = texts\n",
    "        self.numerics = numerics\n",
    "        self.labels = labels\n",
    "\n",
    "    def __len__(self):\n",
    "        return len(self.texts)\n",
    "\n",
    "    def __getitem__(self, idx):\n",
    "        tokens = tokenizer(\n",
    "            self.texts[idx],\n",
    "            padding='max_length',\n",
    "            truncation=True,\n",
    "            max_length=32,\n",
    "            return_tensors=\"pt\"\n",
    "        )\n",
    "        return {\n",
    "            'input_ids': tokens['input_ids'].squeeze(0),\n",
    "            'attention_mask': tokens['attention_mask'].squeeze(0),\n",
    "            'numerics': torch.tensor(self.numerics[idx], dtype=torch.float32),\n",
    "            'label': torch.tensor(self.labels[idx], dtype=torch.float32)\n",
    "        }\n",
    "\n",
    "\n"
   ]
  },
  {
   "cell_type": "code",
   "execution_count": null,
   "metadata": {
    "id": "5-o1D64DR3Nm"
   },
   "outputs": [],
   "source": [
    "train_dataset = FakeNewsDataset(X_text_train, X_num_train, y_train)\n",
    "val_dataset   = FakeNewsDataset(X_text_val, X_num_val, y_val)\n",
    "test_dataset  = FakeNewsDataset(X_text_test, X_num_test, y_test)\n",
    "\n",
    "train_loader = DataLoader(train_dataset, batch_size=64, shuffle=True)\n",
    "val_loader   = DataLoader(val_dataset, batch_size=64)\n",
    "test_loader  = DataLoader(test_dataset, batch_size=64)\n"
   ]
  },
  {
   "cell_type": "markdown",
   "metadata": {
    "id": "Du7VwwzrR85Y"
   },
   "source": [
    "Define Model"
   ]
  },
  {
   "cell_type": "code",
   "execution_count": null,
   "metadata": {
    "id": "eK2gtvtNR90p"
   },
   "outputs": [],
   "source": [
    "class HybridBERTModel(nn.Module):\n",
    "    def __init__(self, numeric_input_dim):\n",
    "        super(HybridBERTModel, self).__init__()\n",
    "        self.bert = BertModel.from_pretrained('bert-base-uncased')\n",
    "        self.dropout = nn.Dropout(0.3)\n",
    "        self.fc1 = nn.Linear(768 + numeric_input_dim, 128)\n",
    "        self.fc2 = nn.Linear(128, 1)\n",
    "        self.relu = nn.ReLU()\n",
    "\n",
    "    def forward(self, input_ids, attention_mask, numerics):\n",
    "        outputs = self.bert(input_ids=input_ids, attention_mask=attention_mask)\n",
    "        cls_output = outputs.last_hidden_state[:, 0, :]\n",
    "        combined = torch.cat((cls_output, numerics), dim=1)\n",
    "        x = self.relu(self.fc1(self.dropout(combined)))\n",
    "        return torch.sigmoid(self.fc2(x))\n"
   ]
  },
  {
   "cell_type": "markdown",
   "metadata": {
    "id": "SXYSrpaSSY-J"
   },
   "source": [
    "Train Model with Time Analysis"
   ]
  },
  {
   "cell_type": "code",
   "execution_count": null,
   "metadata": {
    "colab": {
     "base_uri": "https://localhost:8080/",
     "height": 118,
     "referenced_widgets": [
      "ff08500bffcb45639e3fef1b874094aa",
      "b9c05a0937324b2d8bec361cd15b8d98",
      "c8deb7182e954e2ea19a67aac308aa1f",
      "918b1e33bb98463fa6a6b368967c014d",
      "9d0f81e4b1494e688b35cceddae95978",
      "e6f73a7398f14a7c96092c7e740dd75c",
      "66832bc5e76741f2b28eedc3ce4cffae",
      "56030e6198ad40fd8c80a22bececac71",
      "244813caffa9492896400f96bc9ff925",
      "bba0f7f9653942ccab459ee62ed35018",
      "2023e58018e14b88908e97e6416ec015"
     ]
    },
    "id": "bfH8skrDSWAx",
    "outputId": "e2d4b76d-f9cb-4ae9-de4f-44e9bfcc235d"
   },
   "outputs": [
    {
     "data": {
      "application/vnd.jupyter.widget-view+json": {
       "model_id": "ff08500bffcb45639e3fef1b874094aa",
       "version_major": 2,
       "version_minor": 0
      },
      "text/plain": [
       "model.safetensors:   0%|          | 0.00/440M [00:00<?, ?B/s]"
      ]
     },
     "metadata": {},
     "output_type": "display_data"
    },
    {
     "name": "stdout",
     "output_type": "stream",
     "text": [
      "Epoch 1 Loss: 375.0077\n",
      "Epoch 2 Loss: 267.3652\n",
      "Epoch 3 Loss: 186.0791\n",
      "⏱️ Total training time: 1177.74 seconds\n"
     ]
    }
   ],
   "source": [
    "model = HybridBERTModel(numeric_input_dim=X_num_train.shape[1])\n",
    "device = torch.device(\"cuda\" if torch.cuda.is_available() else \"cpu\")\n",
    "model.to(device)\n",
    "\n",
    "criterion = nn.BCELoss()\n",
    "optimizer = torch.optim.Adam(model.parameters(), lr=2e-5)\n",
    "\n",
    "start_time = time.time()\n",
    "\n",
    "for epoch in range(3):\n",
    "    model.train()\n",
    "    epoch_loss = 0\n",
    "    for batch in train_loader:\n",
    "        optimizer.zero_grad()\n",
    "        input_ids = batch['input_ids'].to(device)\n",
    "        attention_mask = batch['attention_mask'].to(device)\n",
    "        numerics = batch['numerics'].to(device)\n",
    "        labels = batch['label'].to(device).unsqueeze(1)\n",
    "\n",
    "        outputs = model(input_ids, attention_mask, numerics)\n",
    "        loss = criterion(outputs, labels)\n",
    "        loss.backward()\n",
    "        optimizer.step()\n",
    "        epoch_loss += loss.item()\n",
    "\n",
    "    print(f\"Epoch {epoch+1} Loss: {epoch_loss:.4f}\")\n",
    "\n",
    "end_time = time.time()\n",
    "print(f\"⏱️ Total training time: {end_time - start_time:.2f} seconds\")\n"
   ]
  },
  {
   "cell_type": "code",
   "execution_count": null,
   "metadata": {
    "id": "Q_Jvf9Ff1Q7E"
   },
   "outputs": [],
   "source": [
    "from sklearn.metrics import accuracy_score, f1_score, roc_auc_score, precision_score, recall_score\n"
   ]
  },
  {
   "cell_type": "code",
   "execution_count": null,
   "metadata": {
    "id": "QLyCc9MZyxj5"
   },
   "outputs": [],
   "source": [
    "def evaluate_model(model, dataloader, device):\n",
    "    model.eval()\n",
    "    all_labels = []\n",
    "    all_preds = []\n",
    "    all_probs = []\n",
    "\n",
    "    with torch.no_grad():\n",
    "        for batch in dataloader:\n",
    "            input_ids = batch['input_ids'].to(device)\n",
    "            attention_mask = batch['attention_mask'].to(device)\n",
    "            numerics = batch['numerics'].to(device)\n",
    "            labels = batch['label'].to(device)\n",
    "\n",
    "            outputs = model(input_ids, attention_mask, numerics)\n",
    "            probs = outputs.squeeze().cpu().numpy()\n",
    "            preds = (probs > 0.5).astype(int)\n",
    "            labels = labels.cpu().numpy()\n",
    "\n",
    "            all_labels.extend(labels)\n",
    "            all_preds.extend(preds)\n",
    "            all_probs.extend(probs)\n",
    "\n",
    "    acc = accuracy_score(all_labels, all_preds)\n",
    "    f1 = f1_score(all_labels, all_preds)\n",
    "    auc = roc_auc_score(all_labels, all_probs)\n",
    "    precision = precision_score(all_labels, all_preds)\n",
    "    recall = recall_score(all_labels, all_preds)\n",
    "\n",
    "    return {\n",
    "        'Accuracy': acc,\n",
    "        'F1 Score': f1,\n",
    "        'AUC': auc,\n",
    "        'Precision': precision,\n",
    "        'Recall': recall\n",
    "    }\n"
   ]
  },
  {
   "cell_type": "code",
   "execution_count": null,
   "metadata": {
    "colab": {
     "base_uri": "https://localhost:8080/"
    },
    "id": "2sjldqyg0yVc",
    "outputId": "9850bbff-89b9-45d5-d383-f4f2760f2e79"
   },
   "outputs": [
    {
     "name": "stdout",
     "output_type": "stream",
     "text": [
      "\n",
      "📊 Validation Set Metrics:\n",
      "Accuracy: 0.8905\n",
      "F1 Score: 0.8927\n",
      "AUC: 0.9560\n",
      "Precision: 0.8768\n",
      "Recall: 0.9091\n",
      "\n",
      "📊 Test Set Metrics:\n",
      "Accuracy: 0.8839\n",
      "F1 Score: 0.8856\n",
      "AUC: 0.9541\n",
      "Precision: 0.8747\n",
      "Recall: 0.8969\n"
     ]
    }
   ],
   "source": [
    "val_metrics = evaluate_model(model, val_loader, device)\n",
    "test_metrics = evaluate_model(model, test_loader, device)\n",
    "\n",
    "print(\"\\n📊 Validation Set Metrics:\")\n",
    "for k, v in val_metrics.items():\n",
    "    print(f\"{k}: {v:.4f}\")\n",
    "\n",
    "print(\"\\n📊 Test Set Metrics:\")\n",
    "for k, v in test_metrics.items():\n",
    "    print(f\"{k}: {v:.4f}\")\n"
   ]
  }
 ],
 "metadata": {
  "accelerator": "GPU",
  "colab": {
   "gpuType": "T4",
   "provenance": []
  },
  "kernelspec": {
   "display_name": "Python 3",
   "name": "python3"
  },
  "language_info": {
   "name": "python"
  }
 },
 "nbformat": 4,
 "nbformat_minor": 0
}
